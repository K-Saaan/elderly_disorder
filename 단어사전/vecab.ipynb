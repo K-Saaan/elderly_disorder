{
 "cells": [
  {
   "cell_type": "code",
   "execution_count": 1,
   "metadata": {},
   "outputs": [],
   "source": [
    "# !pip install kiwipiepy"
   ]
  },
  {
   "cell_type": "code",
   "execution_count": 2,
   "metadata": {},
   "outputs": [],
   "source": [
    "from kiwipiepy import Kiwi"
   ]
  },
  {
   "cell_type": "code",
   "execution_count": 3,
   "metadata": {},
   "outputs": [],
   "source": [
    "# 진단기준 선언\n",
    "mental_disorder = {'depression' : ['(슬프다, 공허하다, 절망적이라고 느낀다) (눈물을 흘리는 것처럼 보임)에서 알 수 있듯이 하루 대부분, 거의 매일 우울한 기분입니다.',\n",
    "                                    '거의 매일, 하루 종일 모든 또는 거의 모든 활동에 대한 관심이나 즐거움이 현저하게 감소합니다',\n",
    "                                    '다이어트를 하지 않는 동안 상당한 체중 감소 또는 체중 증가(한 달에 체중의 5% 이상의 변화) 또는 거의 매일 식욕이 감소 또는 증가합니다.',\n",
    "                                    '불면증이나 과다수면증은 거의 매일 발생합니다.'\n",
    "                                    '거의 매일 나타나는 정신운동 초조 또는 지체',\n",
    "                                    '거의 매일 피로하거나 활력이 상실됩니다.',\n",
    "                                    '거의 매일 무가치감이나 과도하거나 부적절한 죄책감(망상일 수 있음)을 느낍니다',\n",
    "                                    '거의 매일 발생하는 사고력이나 집중력이 저하되거나 우유부단해집니다',\n",
    "                                    '죽음에 대한 반복적인 생각, 구체적인 계획 없이 반복되는 자살 생각, 자살 시도 또는 자살을 위한 구체적인 계획',\n",
    "                                    '중대한 손실(예: 사별, 재정적 파탄, 자연 재해로 인한 손실, 심각한 질병 또는 장애)에 대한 반응에는 극심한 슬픔, 상실에 대한 반추, 불면증, 식욕 부진, 체중 등이 포함'],\n",
    "                   'anxiety' : ['걱정을 통제하는 것이 어렵다',\n",
    "                                '안절부절 못하거나 긴장되거나 불안한 느낌',\n",
    "                                '쉽게 피로해진다',\n",
    "                                '집중하기가 어렵거나 마음이 멍해집니다',\n",
    "                                '과민성',\n",
    "                                '근육 긴장',\n",
    "                                '수면 장애(잠들거나 유지하기 어렵거나 불안하고 불만족스러운 수면)',\n",
    "                                '불안, 걱정 또는 신체적 증상은 사회적, 직업적 또는 기타 중요한 기능 영역에서 임상적으로 심각한 고통이나 손상을 유발합니다'],\n",
    "                   'seperate_anxiety' : ['집이나 주요 애착 대상과의 분리를 예상하거나 경험할 때 반복적으로 과도한 고통을 겪습니다',\n",
    "                                         '주요 애착대상을 잃거나 질병, 부상, 재난, 사망 등 그들에게 해를 끼칠 수 있다는 것에 대한 지속적이고 과도한 걱정',\n",
    "                                         '주요 애착 대상과의 분리를 초래하는 예상치 못한 사건(길을 잃거나, 납치당하거나, 사고를 당하거나, 질병에 걸리거나)을 겪는 것에 대한 지속적이고 과도한 걱정',\n",
    "                                         '별거에 대한 두려움 때문에 외출, 집을 떠나, 학교, 직장 또는 다른 곳으로 나가는 것을 지속적으로 꺼리거나 거부합니다',\n",
    "                                         '집이나 다른 환경에서 혼자 있거나 주요 애착 대상 없이 지내는 것에 대한 지속적이고 과도한 두려움이나 꺼림',\n",
    "                                         '집을 떠나 잠을 자거나 주요 애착 대상 근처에 있지 않고 잠을 자는 것을 지속적으로 꺼리거나 거부합니다',\n",
    "                                         '이별을 주제로 악몽을 반복적으로 꾼다',\n",
    "                                         '주요 애착 대상과의 분리가 발생하거나 예상될 때 신체적 증상(두통, 복통, 메스꺼움, 구토)을 반복적으로 호소',\n",
    "                                         '두려움, 불안 또는 회피가 지속적으로 지속',\n",
    "                                         '장애는 사회적, 학업적, 직업적 또는 기타 중요한 기능 영역에서 임상적으로 심각한 고통이나 손상을 초래합니다',\n",
    "                                         '타인에게 닥칠 건강 악화나 기타 피해에 대한 걱정 또는 질병 불안 장애로 인한 질병에 대한 우려']\n",
    "                   }"
   ]
  },
  {
   "cell_type": "code",
   "execution_count": 4,
   "metadata": {},
   "outputs": [
    {
     "name": "stdout",
     "output_type": "stream",
     "text": [
      "token : (슬프다, 공허하다, 절망적이라고 느낀다) (눈물을 흘리는 것처럼 보임)에서 알 수 있듯이 하루 대부분, 거의 매일 우울한 기분입니다.\n"
     ]
    },
    {
     "ename": "NameError",
     "evalue": "name 'kiwi' is not defined",
     "output_type": "error",
     "traceback": [
      "\u001b[0;31m---------------------------------------------------------------------------\u001b[0m",
      "\u001b[0;31mNameError\u001b[0m                                 Traceback (most recent call last)",
      "Cell \u001b[0;32mIn[4], line 8\u001b[0m\n\u001b[1;32m      6\u001b[0m \u001b[38;5;28;01mfor\u001b[39;00m sentence \u001b[38;5;129;01min\u001b[39;00m mental_disorder[key]:\n\u001b[1;32m      7\u001b[0m     \u001b[38;5;28mprint\u001b[39m(\u001b[38;5;124mf\u001b[39m\u001b[38;5;124m'\u001b[39m\u001b[38;5;124mtoken : \u001b[39m\u001b[38;5;132;01m{\u001b[39;00msentence\u001b[38;5;132;01m}\u001b[39;00m\u001b[38;5;124m'\u001b[39m)\n\u001b[0;32m----> 8\u001b[0m     tokens \u001b[38;5;241m=\u001b[39m \u001b[43mkiwi\u001b[49m\u001b[38;5;241m.\u001b[39mtokenize(sentence)\n\u001b[1;32m      9\u001b[0m     token_list\u001b[38;5;241m.\u001b[39mappend([token\u001b[38;5;241m.\u001b[39mform \u001b[38;5;28;01mfor\u001b[39;00m token \u001b[38;5;129;01min\u001b[39;00m tokens \u001b[38;5;28;01mif\u001b[39;00m token\u001b[38;5;241m.\u001b[39mtag \u001b[38;5;129;01min\u001b[39;00m target_tags])\n\u001b[1;32m     10\u001b[0m token_list \u001b[38;5;241m=\u001b[39m \u001b[38;5;28msum\u001b[39m(token_list, [])\n",
      "\u001b[0;31mNameError\u001b[0m: name 'kiwi' is not defined"
     ]
    }
   ],
   "source": [
    "# 체언(NNG, NNP,  NR, NP), 용언(VX, VCN), 어근에 해당 하는 품사와 일반 부사(MAG), 체언 접두사(XPN)만을 선별\n",
    "target_tags = ['NNG', 'NNP', 'NR', 'NP', 'VCN', 'MAG', 'XPN']\n",
    "token_disorder = {}\n",
    "for key in mental_disorder.keys():\n",
    "    token_list = []\n",
    "    for sentence in mental_disorder[key]:\n",
    "        print(f'token : {sentence}')\n",
    "        tokens = kiwi.tokenize(sentence)\n",
    "        token_list.append([token.form for token in tokens if token.tag in target_tags])\n",
    "    token_list = sum(token_list, [])\n",
    "    token_disorder[key] = token_list"
   ]
  },
  {
   "cell_type": "code",
   "execution_count": null,
   "metadata": {},
   "outputs": [],
   "source": [
    "token_disorder"
   ]
  }
 ],
 "metadata": {
  "kernelspec": {
   "display_name": "elderly",
   "language": "python",
   "name": "python3"
  },
  "language_info": {
   "codemirror_mode": {
    "name": "ipython",
    "version": 3
   },
   "file_extension": ".py",
   "mimetype": "text/x-python",
   "name": "python",
   "nbconvert_exporter": "python",
   "pygments_lexer": "ipython3",
   "version": "3.9.16"
  }
 },
 "nbformat": 4,
 "nbformat_minor": 2
}
