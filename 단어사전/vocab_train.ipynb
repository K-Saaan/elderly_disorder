{
 "cells": [
  {
   "cell_type": "code",
   "execution_count": 1,
   "metadata": {},
   "outputs": [
    {
     "name": "stdout",
     "output_type": "stream",
     "text": [
      "time: 0 ns (started: 2024-06-13 02:56:46 +09:00)\n"
     ]
    }
   ],
   "source": [
    "# 셀 별로 러닝타임 측정\n",
    "%load_ext autotime"
   ]
  },
  {
   "cell_type": "code",
   "execution_count": 2,
   "metadata": {},
   "outputs": [
    {
     "name": "stdout",
     "output_type": "stream",
     "text": [
      "time: 9.3 s (started: 2024-06-13 02:56:46 +09:00)\n"
     ]
    }
   ],
   "source": [
    "from kiwipiepy import Kiwi\n",
    "import pandas as pd\n",
    "import seaborn as sns\n",
    "import matplotlib.pyplot as plt"
   ]
  },
  {
   "cell_type": "code",
   "execution_count": 3,
   "metadata": {},
   "outputs": [
    {
     "name": "stdout",
     "output_type": "stream",
     "text": [
      "time: 969 ms (started: 2024-06-13 02:56:55 +09:00)\n"
     ]
    }
   ],
   "source": [
    "# Kiwi 선언\n",
    "kiwi = Kiwi()\n",
    "\n",
    "# 단어사전 만들 데이터셋 불러오기\n",
    "train_df = pd.read_csv(\"../data/train.csv\")\n",
    "\n",
    "# 대화 데이터를 담은 리스트\n",
    "sentences = train_df['HS'].tolist()"
   ]
  },
  {
   "cell_type": "code",
   "execution_count": 4,
   "metadata": {},
   "outputs": [
    {
     "name": "stdout",
     "output_type": "stream",
     "text": [
      "time: 2min 22s (started: 2024-06-13 02:56:56 +09:00)\n"
     ]
    }
   ],
   "source": [
    "# 체언(NNG, NNP,  NR, NP), 용언(VX, VCN), 어근에 해당 하는 품사와 일반 부사(MAG), 체언 접두사(XPN)만을 선별\n",
    "target_tags = ['NNG', 'NNP', 'NR', 'NP', 'VCN', 'MAG', 'XPN']\n",
    "\n",
    "# 단어 사전을 담을 리스트\n",
    "word_dict = []\n",
    "\n",
    "# 형태소 분석 및 타겟 품사 선별\n",
    "for sentence in sentences:\n",
    "    for word, pos, _, _ in kiwi.analyze(sentence)[0][0]:\n",
    "        if pos in target_tags:\n",
    "            word_dict.append((word, pos))\n",
    "\n",
    "# 데이터프레임으로 변환\n",
    "word_df = pd.DataFrame(word_dict, columns=['Word', 'POS'])"
   ]
  },
  {
   "cell_type": "code",
   "execution_count": 6,
   "metadata": {},
   "outputs": [
    {
     "data": {
      "text/html": [
       "<div>\n",
       "<style scoped>\n",
       "    .dataframe tbody tr th:only-of-type {\n",
       "        vertical-align: middle;\n",
       "    }\n",
       "\n",
       "    .dataframe tbody tr th {\n",
       "        vertical-align: top;\n",
       "    }\n",
       "\n",
       "    .dataframe thead th {\n",
       "        text-align: right;\n",
       "    }\n",
       "</style>\n",
       "<table border=\"1\" class=\"dataframe\">\n",
       "  <thead>\n",
       "    <tr style=\"text-align: right;\">\n",
       "      <th></th>\n",
       "      <th>Word</th>\n",
       "      <th>POS</th>\n",
       "    </tr>\n",
       "  </thead>\n",
       "  <tbody>\n",
       "    <tr>\n",
       "      <th>0</th>\n",
       "      <td>일</td>\n",
       "      <td>NNG</td>\n",
       "    </tr>\n",
       "    <tr>\n",
       "      <th>1</th>\n",
       "      <td>왜</td>\n",
       "      <td>MAG</td>\n",
       "    </tr>\n",
       "    <tr>\n",
       "      <th>2</th>\n",
       "      <td>끝</td>\n",
       "      <td>NNG</td>\n",
       "    </tr>\n",
       "    <tr>\n",
       "      <th>3</th>\n",
       "      <td>화</td>\n",
       "      <td>NNG</td>\n",
       "    </tr>\n",
       "    <tr>\n",
       "      <th>4</th>\n",
       "      <td>그냥</td>\n",
       "      <td>MAG</td>\n",
       "    </tr>\n",
       "    <tr>\n",
       "      <th>...</th>\n",
       "      <td>...</td>\n",
       "      <td>...</td>\n",
       "    </tr>\n",
       "    <tr>\n",
       "      <th>792917</th>\n",
       "      <td>의심</td>\n",
       "      <td>NNG</td>\n",
       "    </tr>\n",
       "    <tr>\n",
       "      <th>792918</th>\n",
       "      <td>불신</td>\n",
       "      <td>NNG</td>\n",
       "    </tr>\n",
       "    <tr>\n",
       "      <th>792919</th>\n",
       "      <td>마음</td>\n",
       "      <td>NNG</td>\n",
       "    </tr>\n",
       "    <tr>\n",
       "      <th>792920</th>\n",
       "      <td>사람</td>\n",
       "      <td>NNG</td>\n",
       "    </tr>\n",
       "    <tr>\n",
       "      <th>792921</th>\n",
       "      <td>색안경</td>\n",
       "      <td>NNG</td>\n",
       "    </tr>\n",
       "  </tbody>\n",
       "</table>\n",
       "<p>792922 rows × 2 columns</p>\n",
       "</div>"
      ],
      "text/plain": [
       "       Word  POS\n",
       "0         일  NNG\n",
       "1         왜  MAG\n",
       "2         끝  NNG\n",
       "3         화  NNG\n",
       "4        그냥  MAG\n",
       "...     ...  ...\n",
       "792917   의심  NNG\n",
       "792918   불신  NNG\n",
       "792919   마음  NNG\n",
       "792920   사람  NNG\n",
       "792921  색안경  NNG\n",
       "\n",
       "[792922 rows x 2 columns]"
      ]
     },
     "execution_count": 6,
     "metadata": {},
     "output_type": "execute_result"
    },
    {
     "name": "stdout",
     "output_type": "stream",
     "text": [
      "time: 15 ms (started: 2024-06-13 03:00:58 +09:00)\n"
     ]
    }
   ],
   "source": [
    "word_df"
   ]
  },
  {
   "cell_type": "code",
   "execution_count": 12,
   "metadata": {},
   "outputs": [
    {
     "data": {
      "text/html": [
       "<div>\n",
       "<style scoped>\n",
       "    .dataframe tbody tr th:only-of-type {\n",
       "        vertical-align: middle;\n",
       "    }\n",
       "\n",
       "    .dataframe tbody tr th {\n",
       "        vertical-align: top;\n",
       "    }\n",
       "\n",
       "    .dataframe thead th {\n",
       "        text-align: right;\n",
       "    }\n",
       "</style>\n",
       "<table border=\"1\" class=\"dataframe\">\n",
       "  <thead>\n",
       "    <tr style=\"text-align: right;\">\n",
       "      <th></th>\n",
       "      <th>Word</th>\n",
       "      <th>POS</th>\n",
       "    </tr>\n",
       "  </thead>\n",
       "  <tbody>\n",
       "    <tr>\n",
       "      <th>0</th>\n",
       "      <td>일</td>\n",
       "      <td>NNG</td>\n",
       "    </tr>\n",
       "    <tr>\n",
       "      <th>1</th>\n",
       "      <td>왜</td>\n",
       "      <td>MAG</td>\n",
       "    </tr>\n",
       "    <tr>\n",
       "      <th>2</th>\n",
       "      <td>끝</td>\n",
       "      <td>NNG</td>\n",
       "    </tr>\n",
       "    <tr>\n",
       "      <th>3</th>\n",
       "      <td>화</td>\n",
       "      <td>NNG</td>\n",
       "    </tr>\n",
       "    <tr>\n",
       "      <th>4</th>\n",
       "      <td>그냥</td>\n",
       "      <td>MAG</td>\n",
       "    </tr>\n",
       "    <tr>\n",
       "      <th>...</th>\n",
       "      <td>...</td>\n",
       "      <td>...</td>\n",
       "    </tr>\n",
       "    <tr>\n",
       "      <th>789529</th>\n",
       "      <td>참관수업</td>\n",
       "      <td>NNP</td>\n",
       "    </tr>\n",
       "    <tr>\n",
       "      <th>790056</th>\n",
       "      <td>명심</td>\n",
       "      <td>NNG</td>\n",
       "    </tr>\n",
       "    <tr>\n",
       "      <th>791386</th>\n",
       "      <td>소득원</td>\n",
       "      <td>NNG</td>\n",
       "    </tr>\n",
       "    <tr>\n",
       "      <th>792480</th>\n",
       "      <td>여배우</td>\n",
       "      <td>NNG</td>\n",
       "    </tr>\n",
       "    <tr>\n",
       "      <th>792557</th>\n",
       "      <td>야금야금</td>\n",
       "      <td>MAG</td>\n",
       "    </tr>\n",
       "  </tbody>\n",
       "</table>\n",
       "<p>11611 rows × 2 columns</p>\n",
       "</div>"
      ],
      "text/plain": [
       "        Word  POS\n",
       "0          일  NNG\n",
       "1          왜  MAG\n",
       "2          끝  NNG\n",
       "3          화  NNG\n",
       "4         그냥  MAG\n",
       "...      ...  ...\n",
       "789529  참관수업  NNP\n",
       "790056    명심  NNG\n",
       "791386   소득원  NNG\n",
       "792480   여배우  NNG\n",
       "792557  야금야금  MAG\n",
       "\n",
       "[11611 rows x 2 columns]"
      ]
     },
     "execution_count": 12,
     "metadata": {},
     "output_type": "execute_result"
    },
    {
     "name": "stdout",
     "output_type": "stream",
     "text": [
      "time: 63 ms (started: 2024-06-13 03:17:13 +09:00)\n"
     ]
    }
   ],
   "source": [
    "# 중복을 제거한 단어 사전\n",
    "unique_word_df = word_df.drop_duplicates(subset='Word')\n",
    "unique_word_df"
   ]
  },
  {
   "cell_type": "code",
   "execution_count": 13,
   "metadata": {},
   "outputs": [
    {
     "name": "stdout",
     "output_type": "stream",
     "text": [
      "time: 16 ms (started: 2024-06-13 03:18:06 +09:00)\n"
     ]
    }
   ],
   "source": [
    "# 단어 사전 출력\n",
    "unique_word_df.to_csv('../data/new_vocab.csv', encoding='utf-8', index = False)"
   ]
  }
 ],
 "metadata": {
  "kernelspec": {
   "display_name": "sa_paper",
   "language": "python",
   "name": "python3"
  },
  "language_info": {
   "codemirror_mode": {
    "name": "ipython",
    "version": 3
   },
   "file_extension": ".py",
   "mimetype": "text/x-python",
   "name": "python",
   "nbconvert_exporter": "python",
   "pygments_lexer": "ipython3",
   "version": "3.11.8"
  }
 },
 "nbformat": 4,
 "nbformat_minor": 2
}
