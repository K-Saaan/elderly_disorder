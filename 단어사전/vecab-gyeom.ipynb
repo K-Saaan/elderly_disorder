{
 "cells": [
  {
   "cell_type": "code",
   "execution_count": 1,
   "metadata": {},
   "outputs": [],
   "source": [
    "# !pip install kiwipiepy\n",
    "# !pip install pandas\n",
    "# !pip install matplotlib\n",
    "# !pip install seaborn\n",
    "# !pip install ipython-autotime"
   ]
  },
  {
   "cell_type": "markdown",
   "metadata": {},
   "source": [
    "# ■ 모듈 선언"
   ]
  },
  {
   "cell_type": "code",
   "execution_count": 2,
   "metadata": {},
   "outputs": [
    {
     "name": "stdout",
     "output_type": "stream",
     "text": [
      "time: 0 ns (started: 2024-04-02 02:58:19 +09:00)\n"
     ]
    }
   ],
   "source": [
    "# 셀 별로 러닝타임 측정\n",
    "%load_ext autotime"
   ]
  },
  {
   "cell_type": "code",
   "execution_count": 3,
   "metadata": {},
   "outputs": [
    {
     "name": "stdout",
     "output_type": "stream",
     "text": [
      "time: 2.08 s (started: 2024-04-02 02:58:19 +09:00)\n"
     ]
    }
   ],
   "source": [
    "from kiwipiepy import Kiwi\n",
    "import pandas as pd\n",
    "import seaborn as sns\n",
    "import matplotlib.pyplot as plt"
   ]
  },
  {
   "cell_type": "markdown",
   "metadata": {},
   "source": [
    "# ■ 형태소 분석 및 토큰화"
   ]
  },
  {
   "cell_type": "code",
   "execution_count": 4,
   "metadata": {},
   "outputs": [
    {
     "name": "stdout",
     "output_type": "stream",
     "text": [
      "time: 812 ms (started: 2024-04-02 02:58:21 +09:00)\n"
     ]
    }
   ],
   "source": [
    "# Kiwi 선언\n",
    "kiwi = Kiwi()"
   ]
  },
  {
   "cell_type": "code",
   "execution_count": 5,
   "metadata": {},
   "outputs": [
    {
     "name": "stdout",
     "output_type": "stream",
     "text": [
      "time: 0 ns (started: 2024-04-02 02:58:22 +09:00)\n"
     ]
    }
   ],
   "source": [
    "# 진단기준 선언\n",
    "# GPT4와 상진이가 번역한 것을 합침\n",
    "\n",
    "mental_disorder = {\n",
    "    'obsessive_compulsive_disorder': [\n",
    "        '재발성 및 지속적인 생각, 충동 또는 이미지가 방해 기간 동안 침입적이고 원치 않는 것으로 경험되며, 대부분의 개인에게는 뚜렷한 불안이나 고통을 유발합니다.',\n",
    "        '개인은 이러한 생각, 충동, 또는 이미지를 무시하거나 억제하려고 하거나, 어떤 다른 생각이나 행동(즉, 강박 행동을 수행함)으로 중화하려고 시도합니다.',\n",
    "        '강박 증상에 대응하거나 엄격하게 적용해야 하는 규칙에 따라 수행하게 되는 반복적인 행동(예: 손 씻기, 정리, 확인) 또는 정신적 행위(예: 기도, 계산, 조용히 단어 반복)입니다.',\n",
    "        '이러한 행동이나 정신적 행위는 불안이나 고통을 예방하거나 감소시키거나, 어떤 두려운 사건이나 상황을 예방하는 것을 목표로 하지만, 이 행동이나 정신적 행위는 그것들을 중화하거나 예방하는 것과 현실적으로 연결되지 않거나 분명히 과도합니다.',\n",
    "        '강박 증상 또는 강박 행동이 시간을 많이 소모합니다(예: 하루에 1시간 이상 소요) 또는 사회적, 직업적 또는 기타 중요한 기능 영역에서 임상적으로 중요한 고통이나 장애를 유발합니다.',\n",
    "        '방해적이고 원치 않는 것으로 경험되며 대부분의 개인에게 현저한 불안이나 고통을 유발하는 반복적이고 지속적인 생각, 충동 또는 이미지',\n",
    "        '그러한 생각, 충동 또는 이미지를 무시하거나 억제하려고 시도하거나 다른 생각이나 행동으로 이를 중화하려고 시도합니다',\n",
    "        '강박관념에 대한 반응으로 또는 엄격하게 적용해야 하는 규칙에 따라 수행해야 한다고 느끼는 반복적 행동 또는 정신적 활동',\n",
    "        '행동이나 정신적 행위가 불안이나 괴로움을 예방 또는 감소시키거나 두려운 사건이나 상황을 예방하는 것을 목표로 하지만, 현실적으로 연결되지 않거나 과도합니다',\n",
    "        '강박사고나 강박행동은 시간이 많이 걸리거나(예: 하루에 1시간 이상 소요) 사회적, 직업적 또는 기타 중요한 기능 영역에서 임상적으로 심각한 고통이나 손상을 초래합니다',\n",
    "        '강박 증상은 물질의 생리적 효과나 다른 의학적 상태로 인한 것이 아닙니다',\n",
    "        '장애가 다른 정신 장애의 증상으로 더 잘 설명되지 않습니다'\n",
    "    ],\n",
    "    'posttraumatic_stress_disorder': [\n",
    "        '실제 또는 위협적인 죽음, 심각한 상해, 또는 성폭력에 노출되는 것으로, 다음 중 하나(또는 그 이상)의 방식으로 발생합니다: 직접 경험, 다른 사람에게 발생한 사건을 직접 목격, 친한 가족 구성원 또는 친한 친구에게 발생한 외상 사건을 알게 됨, 외상 사건의 불쾌한 세부 사항에 반복적으로 또는 극단적으로 노출됨.',\n",
    "        '외상 사건과 관련된 하나(또는 그 이상)의 침입 증상이 외상 사건 발생 후 나타남.',\n",
    "        '외상 사건과 관련된 자극에 대한 지속적인 회피.',\n",
    "        '외상 사건과 관련된 인지 및 기분의 부정적 변화.',\n",
    "        '외상 사건과 관련된 각성 및 반응성의 뚜렷한 변화.',\n",
    "        '장애의 지속 기간이 1개월 이상임.',\n",
    "        '장애가 사회적, 직업적 또는 기타 중요한 기능 영역에서 임상적으로 중요한 고통이나 장애를 유발함.',\n",
    "        '실제 또는 위협적인 죽음, 심각한 부상 또는 성폭력에 노출됩니다',\n",
    "        '외상적 사건에 대한 반복적이고 비자발적이며 침해적인 고통스러운 기억',\n",
    "        '꿈의 내용 및/또는 영향이 외상적 사건과 관련되어 있는 반복되는 고통스러운 꿈',\n",
    "        '개인이 외상성 사건이 재발하는 것처럼 느끼거나 행동하는 해리 반응',\n",
    "        '외상적 사건의 측면을 상징하는 내부 또는 외부 단서에 대한 강렬하거나 장기간의 심리적 고통 또는 생리적 반응',\n",
    "        '외상성 사건과 관련된 자극을 지속적으로 회피',\n",
    "        '외상성 사건과 관련된 인지 및 기분의 부정적 변화',\n",
    "        '외상성 사건과 관련된 각성 및 반응성의 현저한 변화',\n",
    "        '장애 기간이 1개월을 초과합니다',\n",
    "        '장애는 사회적, 직업적 또는 기타 중요한 기능 영역에서 임상적으로 심각한 고통이나 손상을 초래합니다',\n",
    "        '장애는 물질의 생리적 효과나 다른 의학적 상태로 인한 것이 아닙니다'\n",
    "        ],\n",
    "    'paranoid_personality_disorder': [\n",
    "        '타인에 대한 만연한 불신과 의심이 있어서, 그들의 동기가 악의적으로 해석되며, 성인 초기부터 시작하여 다양한 상황에서 나타남.',\n",
    "        '충분한 근거 없이 타인이 자신을 이용하거나 해치거나 속이고 있다고 의심함.',\n",
    "        '친구나 동료의 충성심이나 신뢰성에 대해 근거 없는 의심에 사로잡혀 있음.',\n",
    "        '정보가 악의적으로 사용될 것이라는 근거 없는 두려움 때문에 다른 사람에게 신뢰하기를 꺼림.',\n",
    "        '해가 없는 말이나 사건에 숨겨진 비하적이거나 위협적인 의미를 읽어냄.',\n",
    "        '지속적으로 원한을 품음 (즉, 모욕, 상해, 또는 경시에 대해 용서하지 않음).',\n",
    "        '타인에게는 분명하지 않은 자신의 성격이나 명성에 대한 공격을 인지하며, 이에 대해 빠르게 화를 내거나 반격함.',\n",
    "        '배우자나 성적 파트너의 충실성에 대해 근거 없는 반복적인 의심을 함.',\n",
    "        '조현병, 양극성 장애 또는 우울 장애의 정신병적 특징, 또는 다른 정신병적 장애의 과정 중에만 발생하지 않으며, 다른 의학적 상태의 생리적 효과에 기인하는 것이 아님.',\n",
    "        '타인에 대한 광범위한 불신과 의심이 초기 성인기에 시작되어 다양한 상황에서 나타납니다',\n",
    "        '충분한 근거 없이 다른 사람들이 자신을 착취하거나 해를 끼치거나 속이고 있다고 의심합니다',\n",
    "        '친구나 동료의 충성심이나 신뢰성에 대한 부당한 의심에 사로잡혀 있습니다',\n",
    "        '정보가 자신에게 불리하게 사용될 것이라는 부당한 두려움 때문에 다른 사람에게 비밀을 털어놓는 것을 꺼립니다',\n",
    "        '온화한 발언이나 사건에 숨겨진 비하하거나 위협적인 의미를 읽어냅니다',\n",
    "        '지속적으로 원한을 풉니다(즉, 모욕, 부상 또는 경멸을 용서하지 않습니다)',\n",
    "        '다른 사람에게는 드러나지 않는 자신의 성격이나 평판에 대한 공격을 인지하고 신속하게 화를 내거나 반격합니다',\n",
    "        '정당한 사유 없이 배우자나 성 파트너의 정절에 대해 반복적으로 의심을 풉니다',\n",
    "        '정신분열증, 양극성 장애, 정신병적 특징을 지닌 우울 장애, 또는 다른 정신병적 장애가 진행되는 동안에만 발생하지 않으며, 다른 의학적 상태의 생리적 효과로 인한 것이 아닙니다'\n",
    "        ]\n",
    "}\n"
   ]
  },
  {
   "cell_type": "code",
   "execution_count": 6,
   "metadata": {},
   "outputs": [
    {
     "name": "stdout",
     "output_type": "stream",
     "text": [
      "time: 0 ns (started: 2024-04-02 02:58:22 +09:00)\n"
     ]
    }
   ],
   "source": [
    "add_word = {\n",
    "    '과다수면증' : 'NNG',\n",
    "    '수면과다증' : 'NNG',\n",
    "    '무가치' : 'NNG',\n",
    "    '무가치감' : 'NNG',\n",
    "    '부적절' : 'NNG',\n",
    "    '불만족' : 'NNG',\n",
    "    '심각' : 'NNG',\n",
    "}\n",
    "for k, v in add_word.items():\n",
    "    kiwi.add_user_word(k, v)"
   ]
  },
  {
   "cell_type": "code",
   "execution_count": 7,
   "metadata": {},
   "outputs": [
    {
     "name": "stdout",
     "output_type": "stream",
     "text": [
      "token : 재발성 및 지속적인 생각, 충동 또는 이미지가 방해 기간 동안 침입적이고 원치 않는 것으로 경험되며, 대부분의 개인에게는 뚜렷한 불안이나 고통을 유발합니다.\n",
      "token : 개인은 이러한 생각, 충동, 또는 이미지를 무시하거나 억제하려고 하거나, 어떤 다른 생각이나 행동(즉, 강박 행동을 수행함)으로 중화하려고 시도합니다.\n",
      "token : 강박 증상에 대응하거나 엄격하게 적용해야 하는 규칙에 따라 수행하게 되는 반복적인 행동(예: 손 씻기, 정리, 확인) 또는 정신적 행위(예: 기도, 계산, 조용히 단어 반복)입니다.\n",
      "token : 이러한 행동이나 정신적 행위는 불안이나 고통을 예방하거나 감소시키거나, 어떤 두려운 사건이나 상황을 예방하는 것을 목표로 하지만, 이 행동이나 정신적 행위는 그것들을 중화하거나 예방하는 것과 현실적으로 연결되지 않거나 분명히 과도합니다.\n",
      "token : 강박 증상 또는 강박 행동이 시간을 많이 소모합니다(예: 하루에 1시간 이상 소요) 또는 사회적, 직업적 또는 기타 중요한 기능 영역에서 임상적으로 중요한 고통이나 장애를 유발합니다.\n",
      "token : 방해적이고 원치 않는 것으로 경험되며 대부분의 개인에게 현저한 불안이나 고통을 유발하는 반복적이고 지속적인 생각, 충동 또는 이미지\n",
      "token : 그러한 생각, 충동 또는 이미지를 무시하거나 억제하려고 시도하거나 다른 생각이나 행동으로 이를 중화하려고 시도합니다\n",
      "token : 강박관념에 대한 반응으로 또는 엄격하게 적용해야 하는 규칙에 따라 수행해야 한다고 느끼는 반복적 행동 또는 정신적 활동\n",
      "token : 행동이나 정신적 행위가 불안이나 괴로움을 예방 또는 감소시키거나 두려운 사건이나 상황을 예방하는 것을 목표로 하지만, 현실적으로 연결되지 않거나 과도합니다\n",
      "token : 강박사고나 강박행동은 시간이 많이 걸리거나(예: 하루에 1시간 이상 소요) 사회적, 직업적 또는 기타 중요한 기능 영역에서 임상적으로 심각한 고통이나 손상을 초래합니다\n",
      "token : 강박 증상은 물질의 생리적 효과나 다른 의학적 상태로 인한 것이 아닙니다\n",
      "token : 장애가 다른 정신 장애의 증상으로 더 잘 설명되지 않습니다\n",
      "token : 실제 또는 위협적인 죽음, 심각한 상해, 또는 성폭력에 노출되는 것으로, 다음 중 하나(또는 그 이상)의 방식으로 발생합니다: 직접 경험, 다른 사람에게 발생한 사건을 직접 목격, 친한 가족 구성원 또는 친한 친구에게 발생한 외상 사건을 알게 됨, 외상 사건의 불쾌한 세부 사항에 반복적으로 또는 극단적으로 노출됨.\n",
      "token : 외상 사건과 관련된 하나(또는 그 이상)의 침입 증상이 외상 사건 발생 후 나타남.\n",
      "token : 외상 사건과 관련된 자극에 대한 지속적인 회피.\n",
      "token : 외상 사건과 관련된 인지 및 기분의 부정적 변화.\n",
      "token : 외상 사건과 관련된 각성 및 반응성의 뚜렷한 변화.\n",
      "token : 장애의 지속 기간이 1개월 이상임.\n",
      "token : 장애가 사회적, 직업적 또는 기타 중요한 기능 영역에서 임상적으로 중요한 고통이나 장애를 유발함.\n",
      "token : 실제 또는 위협적인 죽음, 심각한 부상 또는 성폭력에 노출됩니다\n",
      "token : 외상적 사건에 대한 반복적이고 비자발적이며 침해적인 고통스러운 기억\n",
      "token : 꿈의 내용 및/또는 영향이 외상적 사건과 관련되어 있는 반복되는 고통스러운 꿈\n",
      "token : 개인이 외상성 사건이 재발하는 것처럼 느끼거나 행동하는 해리 반응\n",
      "token : 외상적 사건의 측면을 상징하는 내부 또는 외부 단서에 대한 강렬하거나 장기간의 심리적 고통 또는 생리적 반응\n",
      "token : 외상성 사건과 관련된 자극을 지속적으로 회피\n",
      "token : 외상성 사건과 관련된 인지 및 기분의 부정적 변화\n",
      "token : 외상성 사건과 관련된 각성 및 반응성의 현저한 변화\n",
      "token : 장애 기간이 1개월을 초과합니다\n",
      "token : 장애는 사회적, 직업적 또는 기타 중요한 기능 영역에서 임상적으로 심각한 고통이나 손상을 초래합니다\n",
      "token : 장애는 물질의 생리적 효과나 다른 의학적 상태로 인한 것이 아닙니다\n",
      "token : 타인에 대한 만연한 불신과 의심이 있어서, 그들의 동기가 악의적으로 해석되며, 성인 초기부터 시작하여 다양한 상황에서 나타남.\n",
      "token : 충분한 근거 없이 타인이 자신을 이용하거나 해치거나 속이고 있다고 의심함.\n",
      "token : 친구나 동료의 충성심이나 신뢰성에 대해 근거 없는 의심에 사로잡혀 있음.\n",
      "token : 정보가 악의적으로 사용될 것이라는 근거 없는 두려움 때문에 다른 사람에게 신뢰하기를 꺼림.\n",
      "token : 해가 없는 말이나 사건에 숨겨진 비하적이거나 위협적인 의미를 읽어냄.\n",
      "token : 지속적으로 원한을 품음 (즉, 모욕, 상해, 또는 경시에 대해 용서하지 않음).\n",
      "token : 타인에게는 분명하지 않은 자신의 성격이나 명성에 대한 공격을 인지하며, 이에 대해 빠르게 화를 내거나 반격함.\n",
      "token : 배우자나 성적 파트너의 충실성에 대해 근거 없는 반복적인 의심을 함.\n",
      "token : 조현병, 양극성 장애 또는 우울 장애의 정신병적 특징, 또는 다른 정신병적 장애의 과정 중에만 발생하지 않으며, 다른 의학적 상태의 생리적 효과에 기인하는 것이 아님.\n",
      "token : 타인에 대한 광범위한 불신과 의심이 초기 성인기에 시작되어 다양한 상황에서 나타납니다\n",
      "token : 충분한 근거 없이 다른 사람들이 자신을 착취하거나 해를 끼치거나 속이고 있다고 의심합니다\n",
      "token : 친구나 동료의 충성심이나 신뢰성에 대한 부당한 의심에 사로잡혀 있습니다\n",
      "token : 정보가 자신에게 불리하게 사용될 것이라는 부당한 두려움 때문에 다른 사람에게 비밀을 털어놓는 것을 꺼립니다\n",
      "token : 온화한 발언이나 사건에 숨겨진 비하하거나 위협적인 의미를 읽어냅니다\n",
      "token : 지속적으로 원한을 풉니다(즉, 모욕, 부상 또는 경멸을 용서하지 않습니다)\n",
      "token : 다른 사람에게는 드러나지 않는 자신의 성격이나 평판에 대한 공격을 인지하고 신속하게 화를 내거나 반격합니다\n",
      "token : 정당한 사유 없이 배우자나 성 파트너의 정절에 대해 반복적으로 의심을 풉니다\n",
      "token : 정신분열증, 양극성 장애, 정신병적 특징을 지닌 우울 장애, 또는 다른 정신병적 장애가 진행되는 동안에만 발생하지 않으며, 다른 의학적 상태의 생리적 효과로 인한 것이 아닙니다\n",
      "time: 1.2 s (started: 2024-04-02 02:58:22 +09:00)\n"
     ]
    }
   ],
   "source": [
    "# 체언(NNG, NNP,  NR, NP), 용언(VX, VCN), 어근에 해당 하는 품사와 일반 부사(MAG), 체언 접두사(XPN)만을 선별\n",
    "target_tags = ['NNG', 'NNP', 'NR', 'NP', 'VCN', 'MAG', 'XPN']\n",
    "token_disorder = {}\n",
    "for key in mental_disorder.keys():\n",
    "    token_list = []\n",
    "    for sentence in mental_disorder[key]:\n",
    "        print(f'token : {sentence}')\n",
    "        tokens = kiwi.tokenize(sentence)\n",
    "        token_list.append([token.form for token in tokens if token.tag in target_tags])\n",
    "    token_list = sum(token_list, [])\n",
    "    token_disorder[key] = token_list"
   ]
  },
  {
   "cell_type": "code",
   "execution_count": 8,
   "metadata": {},
   "outputs": [
    {
     "name": "stdout",
     "output_type": "stream",
     "text": [
      "obsessive_compulsive_disorder\n",
      "중복 제거 전/후 토큰 개수: 184 => 83\n",
      "\n",
      "posttraumatic_stress_disorder\n",
      "중복 제거 전/후 토큰 개수: 175 => 79\n",
      "\n",
      "paranoid_personality_disorder\n",
      "중복 제거 전/후 토큰 개수: 158 => 82\n",
      "\n",
      "obsessive_compulsive_disorder: ['활동', '규칙', '영역', '소모', '시간', '원', '물질', '임상', '현실', '행위', '계산', '증상', '초래', '이상', '침입', '장애', '대응', '하루', '예', '의학', '방해', '소요', '대부분', '그것', '반복', '기타', '아니', '잘', '사회', '즉', '생각', '정신', '효과', '기간', '반응', '무시', '괴로움', '과도', '상태', '재발', '조용히', '기도', '분명히', '중요', '설명', '개인', '생리', '관념', '확인', '목표', '중화', '손상', '단어', '지속', '기능', '직업', '억제', '정리', '상황', '강박', '감소', '불안', '경험', '사건', '및', '행동', '엄격', '이미지', '고통', '동안', '예방', '많이', '이', '사고', '또는', '시도', '충동', '적용', '더', '수행', '연결', '손', '유발']\n",
      "posttraumatic_stress_disorder: ['내용', '극단', '꿈', '영역', '물질', '기억', '성폭력', '임상', '영향', '해리', '증상', '초래', '사항', '이상', '침해', '세부', '침입', '장애', '의학', '관련', '자발', '각성', '발생', '심리', '반복', '측면', '기타', '단서', '아니', '사회', '부상', '효과', '변화', '인지', '기간', '반응', '비', '친구', '노출', '상해', '가족', '상태', '재발', '자극', '다음', '초과', '중요', '개인', '생리', '부정', '외부', '장기간', '하나', '손상', '지속', '위협', '직접', '기능', '직업', '경험', '사건', '외상', '내부', '및', '행동', '고통', '기분', '실제', '회피', '구성원', '후', '또는', '죽음', '상징', '사람', '심각', '방식', '유발', '목격']\n",
      "paranoid_personality_disorder: ['공격', '배우자', '발언', '모욕', '분열증', '시작', '없이', '반격', '불리', '기인', '과정', '신속', '성인기', '동기', '의심', '정신병', '성인', '분명', '장애', '명성', '해', '화', '의학', '원한', '신뢰', '용서', '성', '충성심', '발생', '반복', '아니', '불신', '비밀', '동료', '즉', '부상', '비하', '효과', '정절', '인지', '정신', '정보', '진행', '친구', '자신', '착취', '양극성 장애', '상해', '상태', '평판', '근거', '생리', '충실', '조현병', '경멸', '지속', '위협', '파트너', '사용', '말', '상황', '광범위', '사건', '성격', '동안', '타인', '의미', '이용', '이', '특징', '해석', '또는', '다양', '초기', '경시', '악의', '사람', '두려움', '사유', '우울', '그', '부당']\n",
      "time: 0 ns (started: 2024-04-02 02:58:23 +09:00)\n"
     ]
    }
   ],
   "source": [
    "token_disorder_unique = {}\n",
    "\n",
    "for key, tokens in token_disorder.items():\n",
    "    # 중복을 제거하기 위해 set으로 변환\n",
    "    unique_tokens = set(tokens)\n",
    "    # 다시 리스트로 변환하여 저장\n",
    "    token_disorder_unique[key] = list(unique_tokens)\n",
    "    print(f\"{key}\\n중복 제거 전/후 토큰 개수: {len(tokens)} => {len(unique_tokens)}\\n\")\n",
    "\n",
    "# 결과 출력\n",
    "for disorder, tokens in token_disorder_unique.items():\n",
    "    print(f\"{disorder}: {tokens}\")"
   ]
  },
  {
   "cell_type": "code",
   "execution_count": 9,
   "metadata": {},
   "outputs": [
    {
     "name": "stdout",
     "output_type": "stream",
     "text": [
      "obsessive_compulsive_disorder\n",
      "의미없는 토큰 제거 전/후: 83 => 70\n",
      "\n",
      "posttraumatic_stress_disorder\n",
      "의미없는 토큰 제거 전/후: 79 => 70\n",
      "\n",
      "paranoid_personality_disorder\n",
      "의미없는 토큰 제거 전/후: 82 => 68\n",
      "\n",
      "time: 0 ns (started: 2024-04-02 02:58:23 +09:00)\n"
     ]
    }
   ],
   "source": [
    "'''\n",
    "# 제거할 토큰 기준\n",
    "- 직접적인 관련이 적은 일반적인 단어: '이', '그것', '및', '또는', '즉' 등\n",
    "- 문맥상 중요성이 낮은 단어: '잘', '더', '많이'와 같은 부사 등\n",
    "- 부정을 직접 나타내지 않는 단어: '아니'같은 의미없는 부정 등\n",
    "- 수량이나 정도를 나타내는 단어: '하나', '기타' 등\n",
    "- 질환의 진단과 덜 연관된 단어: 예를 들어, '성인기', '진행', '시작' 등 (심리적 특성이나 행동 양식과 무관)\n",
    "'''\n",
    "remove_tokens = [\n",
    "    \"그\", \"그것\", \"기타\", \"다음\", \"더\", \"또는\", \"많이\", \"및\", \"분명\", \"성인기\", \"시작\", \"아니\", \"없이\", \"이\", \"잘\", \"즉\", \"진행\", \"하나\"\n",
    "]\n",
    "\n",
    "filtered_token_disorder = dict()\n",
    "# 제거할 토큰 리스트를 제외시키는 코드\n",
    "for disorder, tokens in token_disorder_unique.items():\n",
    "    # 제거할 토큰들을 제외한 새로운 토큰 리스트 생성\n",
    "    filtered_tokens = [token for token in tokens if token not in remove_tokens and len(token) > 1]\n",
    "    # 필터링된 토큰 리스트 할당\n",
    "    filtered_token_disorder[disorder] = filtered_tokens\n",
    "    print(f\"{disorder}\\n의미없는 토큰 제거 전/후: {len(tokens)} => {len(filtered_tokens)}\\n\")"
   ]
  },
  {
   "cell_type": "code",
   "execution_count": 10,
   "metadata": {},
   "outputs": [
    {
     "data": {
      "image/png": "[encoded data removed]",
      "text/plain": [
       "<Figure size 1000x600 with 1 Axes>"
      ]
     },
     "metadata": {},
     "output_type": "display_data"
    },
    {
     "name": "stdout",
     "output_type": "stream",
     "text": [
      "time: 188 ms (started: 2024-04-02 02:58:23 +09:00)\n"
     ]
    }
   ],
   "source": [
    "'''각 정신질환별 토큰 개수 계산'''\n",
    "disorder_names = list(filtered_token_disorder.keys())\n",
    "token_counts = [len(tokens) for tokens in filtered_token_disorder.values()]\n",
    "\n",
    "# 토큰 개수 데이터프레임\n",
    "token_counts_df = pd.DataFrame({\n",
    "    'Mental Disorder': disorder_names,\n",
    "    'tokens': token_counts\n",
    "})\n",
    "\n",
    "# seaborn으로 막대 그래프 시각화\n",
    "plt.figure(figsize=(10, 6))\n",
    "sns.barplot(x='Mental Disorder',\n",
    "            y='tokens',\n",
    "            data=token_counts_df,\n",
    "            palette='hls',\n",
    "            hue='Mental Disorder',\n",
    "            legend=False,\n",
    "            width=0.4)\n",
    "\n",
    "plt.title('tokenss by Mental Disorder')\n",
    "plt.xticks(rotation=45, ha='right')\n",
    "plt.tight_layout()\n",
    "\n",
    "plt.show()"
   ]
  },
  {
   "cell_type": "code",
   "execution_count": 11,
   "metadata": {},
   "outputs": [
    {
     "data": {
      "text/html": [
       "<div>\n",
       "<style scoped>\n",
       "    .dataframe tbody tr th:only-of-type {\n",
       "        vertical-align: middle;\n",
       "    }\n",
       "\n",
       "    .dataframe tbody tr th {\n",
       "        vertical-align: top;\n",
       "    }\n",
       "\n",
       "    .dataframe thead th {\n",
       "        text-align: right;\n",
       "    }\n",
       "</style>\n",
       "<table border=\"1\" class=\"dataframe\">\n",
       "  <thead>\n",
       "    <tr style=\"text-align: right;\">\n",
       "      <th></th>\n",
       "      <th>mental_disorder</th>\n",
       "      <th>tokens</th>\n",
       "    </tr>\n",
       "  </thead>\n",
       "  <tbody>\n",
       "    <tr>\n",
       "      <th>0</th>\n",
       "      <td>obsessive_compulsive_disorder</td>\n",
       "      <td>[활동, 규칙, 영역, 소모, 시간, 물질, 임상, 현실, 행위, 계산, 증상, 초...</td>\n",
       "    </tr>\n",
       "    <tr>\n",
       "      <th>1</th>\n",
       "      <td>posttraumatic_stress_disorder</td>\n",
       "      <td>[내용, 극단, 영역, 물질, 기억, 성폭력, 임상, 영향, 해리, 증상, 초래, ...</td>\n",
       "    </tr>\n",
       "    <tr>\n",
       "      <th>2</th>\n",
       "      <td>paranoid_personality_disorder</td>\n",
       "      <td>[공격, 배우자, 발언, 모욕, 분열증, 반격, 불리, 기인, 과정, 신속, 동기,...</td>\n",
       "    </tr>\n",
       "  </tbody>\n",
       "</table>\n",
       "</div>"
      ],
      "text/plain": [
       "                 mental_disorder  \\\n",
       "0  obsessive_compulsive_disorder   \n",
       "1  posttraumatic_stress_disorder   \n",
       "2  paranoid_personality_disorder   \n",
       "\n",
       "                                              tokens  \n",
       "0  [활동, 규칙, 영역, 소모, 시간, 물질, 임상, 현실, 행위, 계산, 증상, 초...  \n",
       "1  [내용, 극단, 영역, 물질, 기억, 성폭력, 임상, 영향, 해리, 증상, 초래, ...  \n",
       "2  [공격, 배우자, 발언, 모욕, 분열증, 반격, 불리, 기인, 과정, 신속, 동기,...  "
      ]
     },
     "execution_count": 11,
     "metadata": {},
     "output_type": "execute_result"
    },
    {
     "name": "stdout",
     "output_type": "stream",
     "text": [
      "time: 15 ms (started: 2024-04-02 02:58:24 +09:00)\n"
     ]
    }
   ],
   "source": [
    "df = pd.DataFrame({\n",
    "    'mental_disorder': filtered_token_disorder.keys(),\n",
    "    'tokens': filtered_token_disorder.values()\n",
    "})\n",
    "df"
   ]
  },
  {
   "cell_type": "code",
   "execution_count": 12,
   "metadata": {},
   "outputs": [
    {
     "name": "stdout",
     "output_type": "stream",
     "text": [
      "time: 16 ms (started: 2024-04-02 02:58:24 +09:00)\n"
     ]
    }
   ],
   "source": [
    "df.to_csv('진단기준_토큰.csv', encoding='utf-8', index = False)"
   ]
  },
  {
   "cell_type": "markdown",
   "metadata": {},
   "source": [
    "# ■ 단어사전 증강"
   ]
  },
  {
   "cell_type": "code",
   "execution_count": 13,
   "metadata": {},
   "outputs": [
    {
     "name": "stdout",
     "output_type": "stream",
     "text": [
      "time: 0 ns (started: 2024-04-02 02:58:24 +09:00)\n"
     ]
    }
   ],
   "source": [
    "# !pip install gensim\n",
    "# !pip install wget\n",
    "# !pip install gunzip\n",
    "# !python -m wget https://dl.fbaipublicfiles.com/fasttext/vectors-crawl/cc.ko.300.bin.gz\n",
    "# !python -m gzip -d cc.ko.300.bin.gz"
   ]
  },
  {
   "cell_type": "code",
   "execution_count": 14,
   "metadata": {},
   "outputs": [
    {
     "name": "stdout",
     "output_type": "stream",
     "text": [
      "time: 0 ns (started: 2024-04-02 02:58:24 +09:00)\n"
     ]
    }
   ],
   "source": [
    "import pandas as pd\n",
    "import ast\n",
    "\n",
    "try:\n",
    "    if filtered_token_disorder is not None:\n",
    "        filtered_token_disorder = df\n",
    "        \n",
    "except:\n",
    "    filtered_token_disorder = pd.read_csv(\"./진단기준_토큰.csv\")\n",
    "    # 열의 모든 데이터를 리스트로 변환\n",
    "    filtered_token_disorder['tokens'] = filtered_token_disorder['tokens'].apply(ast.literal_eval)"
   ]
  },
  {
   "cell_type": "code",
   "execution_count": 15,
   "metadata": {},
   "outputs": [
    {
     "name": "stdout",
     "output_type": "stream",
     "text": [
      "\n",
      "time: 1min 41s (started: 2024-04-02 02:58:24 +09:00)\n"
     ]
    }
   ],
   "source": [
    "'''사전 훈련된 모델 로드'''\n",
    "import re\n",
    "import os\n",
    "from gensim.models import Word2Vec, KeyedVectors\n",
    "from gensim.models.fasttext import load_facebook_vectors\n",
    "\n",
    "os.environ[\"CUDA_VISIBLE_DEVICES\"] = \"0\"\n",
    "\n",
    "# # 기본 Word2Vec (데이터셋 필요)\n",
    "# token_arr = [row for row in filtered_token_disorder['tokens']]\n",
    "# token_arr = sum(token_arr, [])\n",
    "# word_vectors = Word2Vec(token_arr, vector_size=100, window=5, min_count=1, sg=0).wv\n",
    "\n",
    "# 사전 훈련된 모델 파일 경로\n",
    "model_path = 'cc.ko.300.bin'\n",
    "word_vectors = load_facebook_vectors(model_path)\n",
    "\n",
    "print()"
   ]
  },
  {
   "cell_type": "code",
   "execution_count": 16,
   "metadata": {},
   "outputs": [
    {
     "name": "stdout",
     "output_type": "stream",
     "text": [
      "time: 15 ms (started: 2024-04-02 03:00:05 +09:00)\n"
     ]
    }
   ],
   "source": [
    "# # # 작동 실험\n",
    "# # # for w, sim in word_vectors.most_similar('우울증', 10):\n",
    "# # #     print(f'{w}: {sim}')\n",
    "\n",
    "# # 작동 실험2\n",
    "# keyword = filtered_token_disorder['tokens'].iloc[0][5]\n",
    "# print(keyword)\n",
    "# for w, sim in word_vectors.most_similar(keyword, 5):\n",
    "#     print(f'{w}: {sim}')"
   ]
  },
  {
   "cell_type": "code",
   "execution_count": 17,
   "metadata": {},
   "outputs": [
    {
     "name": "stdout",
     "output_type": "stream",
     "text": [
      "Disorder: obsessive_compulsive_disorder\n",
      "  Token '의학' added similar words: ['댁크레이']\n",
      "  Token '대부분' added similar words: ['대부분의']\n",
      "  Token '사회' added similar words: ['정치', '경제']\n",
      "  Token '정신' added similar words: ['못차린', '못차리는', '차려보면']\n",
      "  Token '단어' added similar words: ['숙어']\n",
      "  Token '기능' added similar words: ['기능과']\n",
      "  Token '감소' added similar words: ['증가', '증대']\n",
      "  Token '이미지' added similar words: ['이미지의', '보기한국']\n",
      "  Token '동안' added similar words: ['내내']\n",
      "  Token '예방' added similar words: ['예방과']\n",
      "Disorder: posttraumatic_stress_disorder\n",
      "  Token '기억' added similar words: ['상실증']\n",
      "  Token '성폭력' added similar words: ['성폭력과', '성폭력의']\n",
      "  Token '해리' added similar words: ['터틀도브']\n",
      "  Token '의학' added similar words: ['댁크레이']\n",
      "  Token '사회' added similar words: ['정치', '경제']\n",
      "  Token '변화' added similar words: ['변화와']\n",
      "  Token '기간' added similar words: ['동안']\n",
      "  Token '상해' added similar words: ['북경']\n",
      "  Token '기능' added similar words: ['기능과']\n",
      "  Token '내부' added similar words: ['입구4']\n",
      "  Token '기분' added similar words: ['나빠할', '나빠하지']\n",
      "Disorder: paranoid_personality_disorder\n",
      "  Token '공격' added similar words: ['글인신']\n",
      "  Token '불리' added similar words: ['우며']\n",
      "  Token '의학' added similar words: ['댁크레이']\n",
      "  Token '정신' added similar words: ['못차린', '못차리는', '차려보면']\n",
      "  Token '상해' added similar words: ['북경']\n",
      "  Token '동안' added similar words: ['내내', '기간']\n",
      "  Token '의미' added similar words: ['심장한']\n",
      "  Token '특징' added similar words: ['특성']\n",
      "\n",
      "time: 22.8 s (started: 2024-04-02 03:00:05 +09:00)\n"
     ]
    }
   ],
   "source": [
    "'''\n",
    "유사한 단어 찾기 및 단어사전에 추가\n",
    "※문제점: 한자가 나오거나 너무 동떨어진 단어 추가 발생 => 한자 정규식 확인 및 유사도 일정 수치 이하 탈락시킴\n",
    "'''\n",
    "\n",
    "def is_hanja(word):\n",
    "    # 한자 범위를 정규 표현식으로 정의\n",
    "    hanja_range = re.compile(r'[\\u4e00-\\u9fff]+')\n",
    "    return hanja_range.search(word) is not None\n",
    "\n",
    "def augment_dictionary_with_similar_words(model, word_dictionary, top_n=3, similarity_threshold=0.7):\n",
    "    augmented_dictionary = {}\n",
    "    new_tokens_added = {}\n",
    "    token_similar_words_added = {}  # 어떤 토큰에서 어떤 유사한 단어들이 추가되었는지 기록\n",
    "    \n",
    "    for disorder, tokens in zip(word_dictionary[\"mental_disorder\"], word_dictionary[\"tokens\"]):\n",
    "        augmented_tokens = tokens.copy()\n",
    "        new_tokens_for_disorder = []\n",
    "        token_similar_words = {}  # 현재 질환에 대해 토큰별 추가된 유사한 단어들\n",
    "        \n",
    "        for token in tokens:\n",
    "            try:\n",
    "                similar_words = model.most_similar(token, topn=top_n)\n",
    "                similar_words_added = []  # 현재 토큰에 대해 추가된 유사한 단어들\n",
    "                \n",
    "                for word, similarity in similar_words:\n",
    "                    # 유사도가 임계값 이상이고, 한자가 아니며, 아직 추가되지 않은 경우\n",
    "                    if similarity >= similarity_threshold and not is_hanja(word) and word not in augmented_tokens:\n",
    "                        augmented_tokens.append(word)\n",
    "                        new_tokens_for_disorder.append(word)\n",
    "                        similar_words_added.append(word)\n",
    "                        \n",
    "                if similar_words_added:  # 현재 토큰에 대해 추가된 유사한 단어가 있는 경우\n",
    "                    token_similar_words[token] = similar_words_added\n",
    "                    \n",
    "            except KeyError:\n",
    "                continue\n",
    "                \n",
    "        augmented_dictionary[disorder] = augmented_tokens\n",
    "        new_tokens_added[disorder] = new_tokens_for_disorder\n",
    "        token_similar_words_added[disorder] = token_similar_words\n",
    "\n",
    "    return augmented_dictionary, new_tokens_added, token_similar_words_added\n",
    "\n",
    "# \n",
    "augmented_filtered_token_disorder, new_tokens_added, token_similar_words_added = augment_dictionary_with_similar_words(word_vectors, filtered_token_disorder, top_n=5, similarity_threshold=0.65)\n",
    "\n",
    "# 어떤 토큰에서 어떤 유사한 단어들이 추가되었는지 출력\n",
    "for disorder, tokens_info in token_similar_words_added.items():\n",
    "    print(f\"Disorder: {disorder}\")\n",
    "    for token, similar_words in tokens_info.items():\n",
    "        print(f\"  Token '{token}' added similar words: {similar_words}\")\n",
    "\n",
    "print()\n"
   ]
  },
  {
   "cell_type": "code",
   "execution_count": 18,
   "metadata": {},
   "outputs": [
    {
     "name": "stdout",
     "output_type": "stream",
     "text": [
      "time: 47 ms (started: 2024-04-02 03:00:28 +09:00)\n"
     ]
    }
   ],
   "source": [
    "df = pd.DataFrame({\n",
    "    'mental_disorder': augmented_filtered_token_disorder.keys(),\n",
    "    'tokens': augmented_filtered_token_disorder.values()\n",
    "})\n",
    "df\n",
    "df.to_csv('진단기준_토큰(유사도증강).csv', encoding='utf-8', index = False)"
   ]
  }
 ],
 "metadata": {
  "kernelspec": {
   "display_name": "elderly",
   "language": "python",
   "name": "python3"
  },
  "language_info": {
   "codemirror_mode": {
    "name": "ipython",
    "version": 3
   },
   "file_extension": ".py",
   "mimetype": "text/x-python",
   "name": "python",
   "nbconvert_exporter": "python",
   "pygments_lexer": "ipython3",
   "version": "3.11.8"
  }
 },
 "nbformat": 4,
 "nbformat_minor": 2
}
